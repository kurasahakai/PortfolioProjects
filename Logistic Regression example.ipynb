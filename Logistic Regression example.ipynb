{
  "metadata": {
    "language_info": {
      "codemirror_mode": {
        "name": "python",
        "version": 3
      },
      "file_extension": ".py",
      "mimetype": "text/x-python",
      "name": "python",
      "nbconvert_exporter": "python",
      "pygments_lexer": "ipython3",
      "version": "3.8"
    },
    "kernelspec": {
      "name": "python",
      "display_name": "Python (Pyodide)",
      "language": "python"
    }
  },
  "nbformat_minor": 4,
  "nbformat": 4,
  "cells": [
    {
      "cell_type": "markdown",
      "source": "# Logistic Regression\nIn this example I use logistic regression to predict customer churn with Logistic Regression.\nWe use data from Telco hosted on IBM with data on custome tenure, age, income, education and others to train and test a logistic regression model. \n\nLet's start by installing and importing useful packages",
      "metadata": {}
    },
    {
      "cell_type": "code",
      "source": "import piplite\nawait piplite.install(['pandas'])\nawait piplite.install(['matplotlib'])\nawait piplite.install(['numpy'])\nawait piplite.install(['scikit-learn'])\nawait piplite.install(['scipy'])",
      "metadata": {
        "trusted": true
      },
      "execution_count": 1,
      "outputs": []
    },
    {
      "cell_type": "code",
      "source": "import pandas as pd\nimport pylab as pl\nimport numpy as np\nimport scipy.optimize as opt\nfrom sklearn import preprocessing\n%matplotlib inline \nimport matplotlib.pyplot as plt",
      "metadata": {
        "trusted": true
      },
      "execution_count": 2,
      "outputs": []
    },
    {
      "cell_type": "code",
      "source": "from pyodide.http import pyfetch\n\nasync def download(url, filename):\n    response = await pyfetch(url)\n    if response.status == 200:\n        with open(filename, \"wb\") as f:\n            f.write(await response.bytes())",
      "metadata": {
        "trusted": true
      },
      "execution_count": 3,
      "outputs": []
    },
    {
      "cell_type": "markdown",
      "source": "## Data collection\nAs anticipated, we use a synthetic Telco database concerning churn data. Each line of our database will represent a customer, where the churn outcome has been already dummied to where `1.0` indicates a client that dropped the service an `0.0` indicates a client that ended up staying with Telco.",
      "metadata": {}
    },
    {
      "cell_type": "code",
      "source": "path= \"https://cf-courses-data.s3.us.cloud-object-storage.appdomain.cloud/IBMDeveloperSkillsNetwork-ML0101EN-SkillsNetwork/labs/Module%203/data/ChurnData.csv\"\nawait download(path, \"ChurnData.csv\")\npath=\"ChurnData.csv\"",
      "metadata": {
        "trusted": true
      },
      "execution_count": 4,
      "outputs": []
    },
    {
      "cell_type": "markdown",
      "source": "We can check the data",
      "metadata": {}
    },
    {
      "cell_type": "code",
      "source": "churn_df = pd.read_csv(path)\nchurn_df.head()",
      "metadata": {
        "trusted": true
      },
      "execution_count": 5,
      "outputs": [
        {
          "execution_count": 5,
          "output_type": "execute_result",
          "data": {
            "text/plain": "   tenure   age  address  income   ed  employ  equip  callcard  wireless  \\\n0    11.0  33.0      7.0   136.0  5.0     5.0    0.0       1.0       1.0   \n1    33.0  33.0     12.0    33.0  2.0     0.0    0.0       0.0       0.0   \n2    23.0  30.0      9.0    30.0  1.0     2.0    0.0       0.0       0.0   \n3    38.0  35.0      5.0    76.0  2.0    10.0    1.0       1.0       1.0   \n4     7.0  35.0     14.0    80.0  2.0    15.0    0.0       1.0       0.0   \n\n   longmon  ...  pager  internet  callwait  confer  ebill  loglong  logtoll  \\\n0     4.40  ...    1.0       0.0       1.0     1.0    0.0    1.482    3.033   \n1     9.45  ...    0.0       0.0       0.0     0.0    0.0    2.246    3.240   \n2     6.30  ...    0.0       0.0       0.0     1.0    0.0    1.841    3.240   \n3     6.05  ...    1.0       1.0       1.0     1.0    1.0    1.800    3.807   \n4     7.10  ...    0.0       0.0       1.0     1.0    0.0    1.960    3.091   \n\n   lninc  custcat  churn  \n0  4.913      4.0    1.0  \n1  3.497      1.0    1.0  \n2  3.401      3.0    0.0  \n3  4.331      4.0    0.0  \n4  4.382      3.0    0.0  \n\n[5 rows x 28 columns]",
            "text/html": "<div>\n<style scoped>\n    .dataframe tbody tr th:only-of-type {\n        vertical-align: middle;\n    }\n\n    .dataframe tbody tr th {\n        vertical-align: top;\n    }\n\n    .dataframe thead th {\n        text-align: right;\n    }\n</style>\n<table border=\"1\" class=\"dataframe\">\n  <thead>\n    <tr style=\"text-align: right;\">\n      <th></th>\n      <th>tenure</th>\n      <th>age</th>\n      <th>address</th>\n      <th>income</th>\n      <th>ed</th>\n      <th>employ</th>\n      <th>equip</th>\n      <th>callcard</th>\n      <th>wireless</th>\n      <th>longmon</th>\n      <th>...</th>\n      <th>pager</th>\n      <th>internet</th>\n      <th>callwait</th>\n      <th>confer</th>\n      <th>ebill</th>\n      <th>loglong</th>\n      <th>logtoll</th>\n      <th>lninc</th>\n      <th>custcat</th>\n      <th>churn</th>\n    </tr>\n  </thead>\n  <tbody>\n    <tr>\n      <th>0</th>\n      <td>11.0</td>\n      <td>33.0</td>\n      <td>7.0</td>\n      <td>136.0</td>\n      <td>5.0</td>\n      <td>5.0</td>\n      <td>0.0</td>\n      <td>1.0</td>\n      <td>1.0</td>\n      <td>4.40</td>\n      <td>...</td>\n      <td>1.0</td>\n      <td>0.0</td>\n      <td>1.0</td>\n      <td>1.0</td>\n      <td>0.0</td>\n      <td>1.482</td>\n      <td>3.033</td>\n      <td>4.913</td>\n      <td>4.0</td>\n      <td>1.0</td>\n    </tr>\n    <tr>\n      <th>1</th>\n      <td>33.0</td>\n      <td>33.0</td>\n      <td>12.0</td>\n      <td>33.0</td>\n      <td>2.0</td>\n      <td>0.0</td>\n      <td>0.0</td>\n      <td>0.0</td>\n      <td>0.0</td>\n      <td>9.45</td>\n      <td>...</td>\n      <td>0.0</td>\n      <td>0.0</td>\n      <td>0.0</td>\n      <td>0.0</td>\n      <td>0.0</td>\n      <td>2.246</td>\n      <td>3.240</td>\n      <td>3.497</td>\n      <td>1.0</td>\n      <td>1.0</td>\n    </tr>\n    <tr>\n      <th>2</th>\n      <td>23.0</td>\n      <td>30.0</td>\n      <td>9.0</td>\n      <td>30.0</td>\n      <td>1.0</td>\n      <td>2.0</td>\n      <td>0.0</td>\n      <td>0.0</td>\n      <td>0.0</td>\n      <td>6.30</td>\n      <td>...</td>\n      <td>0.0</td>\n      <td>0.0</td>\n      <td>0.0</td>\n      <td>1.0</td>\n      <td>0.0</td>\n      <td>1.841</td>\n      <td>3.240</td>\n      <td>3.401</td>\n      <td>3.0</td>\n      <td>0.0</td>\n    </tr>\n    <tr>\n      <th>3</th>\n      <td>38.0</td>\n      <td>35.0</td>\n      <td>5.0</td>\n      <td>76.0</td>\n      <td>2.0</td>\n      <td>10.0</td>\n      <td>1.0</td>\n      <td>1.0</td>\n      <td>1.0</td>\n      <td>6.05</td>\n      <td>...</td>\n      <td>1.0</td>\n      <td>1.0</td>\n      <td>1.0</td>\n      <td>1.0</td>\n      <td>1.0</td>\n      <td>1.800</td>\n      <td>3.807</td>\n      <td>4.331</td>\n      <td>4.0</td>\n      <td>0.0</td>\n    </tr>\n    <tr>\n      <th>4</th>\n      <td>7.0</td>\n      <td>35.0</td>\n      <td>14.0</td>\n      <td>80.0</td>\n      <td>2.0</td>\n      <td>15.0</td>\n      <td>0.0</td>\n      <td>1.0</td>\n      <td>0.0</td>\n      <td>7.10</td>\n      <td>...</td>\n      <td>0.0</td>\n      <td>0.0</td>\n      <td>1.0</td>\n      <td>1.0</td>\n      <td>0.0</td>\n      <td>1.960</td>\n      <td>3.091</td>\n      <td>4.382</td>\n      <td>3.0</td>\n      <td>0.0</td>\n    </tr>\n  </tbody>\n</table>\n<p>5 rows × 28 columns</p>\n</div>"
          },
          "metadata": {}
        }
      ]
    },
    {
      "cell_type": "markdown",
      "source": "While our churn variable has already been prepared with a dummy variable, we still need to pre-process our date. \n\nWe need to, first, select the data that will actually help us in our job, as such we only select the following columns: `tenure`, `age`, `address`, `income`, `ed`, `employ`, `equip`, `callcard`, `wireless`, `churn`.\n\nAs much as `1.0` and `0.0` are already numeric variables, we need to transform them into integers.",
      "metadata": {}
    },
    {
      "cell_type": "code",
      "source": "#Data selection\nchurn_df = churn_df[['tenure', 'age', 'address', 'income', 'ed', 'employ', 'equip',   'callcard', 'wireless','churn']]\nchurn_df['churn'] = churn_df['churn'].astype('int')\nchurn_df.head()",
      "metadata": {
        "trusted": true
      },
      "execution_count": 9,
      "outputs": [
        {
          "execution_count": 9,
          "output_type": "execute_result",
          "data": {
            "text/plain": "   tenure   age  address  income   ed  employ  equip  callcard  wireless  \\\n0    11.0  33.0      7.0   136.0  5.0     5.0    0.0       1.0       1.0   \n1    33.0  33.0     12.0    33.0  2.0     0.0    0.0       0.0       0.0   \n2    23.0  30.0      9.0    30.0  1.0     2.0    0.0       0.0       0.0   \n3    38.0  35.0      5.0    76.0  2.0    10.0    1.0       1.0       1.0   \n4     7.0  35.0     14.0    80.0  2.0    15.0    0.0       1.0       0.0   \n\n   churn  \n0      1  \n1      1  \n2      0  \n3      0  \n4      0  ",
            "text/html": "<div>\n<style scoped>\n    .dataframe tbody tr th:only-of-type {\n        vertical-align: middle;\n    }\n\n    .dataframe tbody tr th {\n        vertical-align: top;\n    }\n\n    .dataframe thead th {\n        text-align: right;\n    }\n</style>\n<table border=\"1\" class=\"dataframe\">\n  <thead>\n    <tr style=\"text-align: right;\">\n      <th></th>\n      <th>tenure</th>\n      <th>age</th>\n      <th>address</th>\n      <th>income</th>\n      <th>ed</th>\n      <th>employ</th>\n      <th>equip</th>\n      <th>callcard</th>\n      <th>wireless</th>\n      <th>churn</th>\n    </tr>\n  </thead>\n  <tbody>\n    <tr>\n      <th>0</th>\n      <td>11.0</td>\n      <td>33.0</td>\n      <td>7.0</td>\n      <td>136.0</td>\n      <td>5.0</td>\n      <td>5.0</td>\n      <td>0.0</td>\n      <td>1.0</td>\n      <td>1.0</td>\n      <td>1</td>\n    </tr>\n    <tr>\n      <th>1</th>\n      <td>33.0</td>\n      <td>33.0</td>\n      <td>12.0</td>\n      <td>33.0</td>\n      <td>2.0</td>\n      <td>0.0</td>\n      <td>0.0</td>\n      <td>0.0</td>\n      <td>0.0</td>\n      <td>1</td>\n    </tr>\n    <tr>\n      <th>2</th>\n      <td>23.0</td>\n      <td>30.0</td>\n      <td>9.0</td>\n      <td>30.0</td>\n      <td>1.0</td>\n      <td>2.0</td>\n      <td>0.0</td>\n      <td>0.0</td>\n      <td>0.0</td>\n      <td>0</td>\n    </tr>\n    <tr>\n      <th>3</th>\n      <td>38.0</td>\n      <td>35.0</td>\n      <td>5.0</td>\n      <td>76.0</td>\n      <td>2.0</td>\n      <td>10.0</td>\n      <td>1.0</td>\n      <td>1.0</td>\n      <td>1.0</td>\n      <td>0</td>\n    </tr>\n    <tr>\n      <th>4</th>\n      <td>7.0</td>\n      <td>35.0</td>\n      <td>14.0</td>\n      <td>80.0</td>\n      <td>2.0</td>\n      <td>15.0</td>\n      <td>0.0</td>\n      <td>1.0</td>\n      <td>0.0</td>\n      <td>0</td>\n    </tr>\n  </tbody>\n</table>\n</div>"
          },
          "metadata": {}
        }
      ]
    },
    {
      "cell_type": "markdown",
      "source": "Let's transform our data into a numpy array and normalize them using the `StandardScaler` function. We can also `churn` as our target variable.",
      "metadata": {}
    },
    {
      "cell_type": "code",
      "source": "#Array preparation\nX = np.asarray(churn_df[['tenure', 'age', 'address', 'income', 'ed', 'employ', 'equip']])\ny = np.asarray(churn_df['churn'])\n\n#Normalization\nfrom sklearn import preprocessing\nX = preprocessing.StandardScaler().fit(X).transform(X)",
      "metadata": {
        "trusted": true
      },
      "execution_count": 10,
      "outputs": []
    },
    {
      "cell_type": "markdown",
      "source": "We can now split our dataset into train and test sets.",
      "metadata": {}
    },
    {
      "cell_type": "code",
      "source": "from sklearn.model_selection import train_test_split\nX_train, X_test, y_train, y_test = train_test_split( X, y, test_size=0.2, random_state=1234)\nprint ('Train set:', X_train.shape,  y_train.shape)\nprint ('Test set:', X_test.shape,  y_test.shape)",
      "metadata": {
        "trusted": true
      },
      "execution_count": 11,
      "outputs": [
        {
          "name": "stdout",
          "text": "Train set: (160, 7) (160,)\nTest set: (40, 7) (40,)\n",
          "output_type": "stream"
        }
      ]
    },
    {
      "cell_type": "markdown",
      "source": "## Setting up the model\nWe can now build the LogisticRegression item, we will use a very strong regularization parameter to solve overfitting. We will also use the `libilinear` solver as our job is limited to a one-versus-rest schema.",
      "metadata": {}
    },
    {
      "cell_type": "code",
      "source": "from sklearn.linear_model import LogisticRegression\nfrom sklearn.metrics import confusion_matrix\n\n#Let's create a LogisticRegression item and fit it on our train set\nLR = LogisticRegression(C=0.01, solver='liblinear').fit(X_train,y_train)",
      "metadata": {
        "trusted": true
      },
      "execution_count": 12,
      "outputs": []
    },
    {
      "cell_type": "markdown",
      "source": "We can now use it on our test set to make predictions.",
      "metadata": {}
    },
    {
      "cell_type": "code",
      "source": "#We can predict the outcome of our test set\nyhat = LR.predict(X_test)",
      "metadata": {
        "trusted": true
      },
      "execution_count": 13,
      "outputs": []
    },
    {
      "cell_type": "markdown",
      "source": "## Evaluation\nWe will use both the jaccard index and confusion matrices to verify the results of our model.",
      "metadata": {}
    },
    {
      "cell_type": "code",
      "source": "from sklearn.metrics import jaccard_score\n#Let's calculate the jaccard score index for our model\njaccard_score(y_test, yhat,pos_label=0)",
      "metadata": {
        "trusted": true
      },
      "execution_count": 14,
      "outputs": [
        {
          "execution_count": 14,
          "output_type": "execute_result",
          "data": {
            "text/plain": "0.7419354838709677"
          },
          "metadata": {}
        }
      ]
    },
    {
      "cell_type": "code",
      "source": "#We can then use this function to create a confusion matrix\nfrom sklearn.metrics import classification_report, confusion_matrix\nimport itertools\ndef plot_confusion_matrix(cm, classes,\n                          normalize=False,\n                          title='Confusion matrix',\n                          cmap=plt.cm.Blues):\n    \"\"\"\n    This function prints and plots the confusion matrix.\n    Normalization can be applied by setting `normalize=True`.\n    \"\"\"\n    if normalize:\n        cm = cm.astype('float') / cm.sum(axis=1)[:, np.newaxis]\n        print(\"Normalized confusion matrix\")\n    else:\n        print('Confusion matrix, without normalization')\n\n    print(cm)\n\n    plt.imshow(cm, interpolation='nearest', cmap=cmap)\n    plt.title(title)\n    plt.colorbar()\n    tick_marks = np.arange(len(classes))\n    plt.xticks(tick_marks, classes, rotation=45)\n    plt.yticks(tick_marks, classes)\n\n    fmt = '.2f' if normalize else 'd'\n    thresh = cm.max() / 2.\n    for i, j in itertools.product(range(cm.shape[0]), range(cm.shape[1])):\n        plt.text(j, i, format(cm[i, j], fmt),\n                 horizontalalignment=\"center\",\n                 color=\"white\" if cm[i, j] > thresh else \"black\")\n\n    plt.tight_layout()\n    plt.ylabel('True label')\n    plt.xlabel('Predicted label')\nprint(confusion_matrix(y_test, yhat, labels=[1,0]))",
      "metadata": {
        "trusted": true
      },
      "execution_count": 15,
      "outputs": [
        {
          "name": "stdout",
          "text": "[[ 9  2]\n [ 6 23]]\n",
          "output_type": "stream"
        }
      ]
    },
    {
      "cell_type": "code",
      "source": "# Compute confusion matrix\ncnf_matrix = confusion_matrix(y_test, yhat, labels=[1,0])\nnp.set_printoptions(precision=2)\n\n\n# Plot non-normalized confusion matrix\nplt.figure()\nplot_confusion_matrix(cnf_matrix, classes=['churn=1','churn=0'],normalize= False,  title='Confusion matrix')",
      "metadata": {
        "trusted": true
      },
      "execution_count": 16,
      "outputs": [
        {
          "name": "stdout",
          "text": "Confusion matrix, without normalization\n[[ 9  2]\n [ 6 23]]\n",
          "output_type": "stream"
        },
        {
          "output_type": "display_data",
          "data": {
            "text/plain": "<Figure size 640x480 with 2 Axes>",
            "image/png": "[encoded data removed]"
          },
          "metadata": {}
        }
      ]
    },
    {
      "cell_type": "markdown",
      "source": "This confusion matrix shows us that the rate of True Positives and True Negatives is very high compared to Flase Positives and False Negatives. \n\nWe can also check the precision, recall and F1 score of our model:",
      "metadata": {}
    },
    {
      "cell_type": "code",
      "source": "print (classification_report(y_test, yhat))\n",
      "metadata": {
        "trusted": true
      },
      "execution_count": 17,
      "outputs": [
        {
          "name": "stdout",
          "text": "              precision    recall  f1-score   support\n\n           0       0.92      0.79      0.85        29\n           1       0.60      0.82      0.69        11\n\n    accuracy                           0.80        40\n   macro avg       0.76      0.81      0.77        40\nweighted avg       0.83      0.80      0.81        40\n\n",
          "output_type": "stream"
        }
      ]
    },
    {
      "cell_type": "markdown",
      "source": "Another important method for evaluation in LogisticRegression is the log loss, the output is the probability of a customer churn being equal to 1, this way we can measure the performance of the classifier.",
      "metadata": {}
    },
    {
      "cell_type": "code",
      "source": "from sklearn.metrics import log_loss\n#We first need to define the estimates for all classes ordered by label\nyhat_prob = LR.predict_proba(X_test)\nlog_loss(y_test, yhat_prob)",
      "metadata": {
        "trusted": true
      },
      "execution_count": 19,
      "outputs": [
        {
          "execution_count": 19,
          "output_type": "execute_result",
          "data": {
            "text/plain": "0.5723178226347725"
          },
          "metadata": {}
        }
      ]
    },
    {
      "cell_type": "code",
      "source": "",
      "metadata": {},
      "execution_count": null,
      "outputs": []
    }
  ]
}